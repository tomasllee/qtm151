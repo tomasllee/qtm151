{
 "cells": [
  {
   "cell_type": "markdown",
   "id": "5ae702c5-aa77-4e43-8c79-e92ee180c329",
   "metadata": {},
   "source": [
    "## This is my first Jupyter Notebook"
   ]
  },
  {
   "cell_type": "code",
   "execution_count": 5,
   "id": "31b6c9de-3f14-4b35-9bcc-b592693c0bc1",
   "metadata": {},
   "outputs": [
    {
     "name": "stdout",
     "output_type": "stream",
     "text": [
      "My name is Tomas Lee\n"
     ]
    }
   ],
   "source": [
    "print(\"My name is Tomas Lee\")"
   ]
  }
 ],
 "metadata": {
  "kernelspec": {
   "display_name": "Python 3 (ipykernel)",
   "language": "python",
   "name": "python3"
  },
  "language_info": {
   "codemirror_mode": {
    "name": "ipython",
    "version": 3
   },
   "file_extension": ".py",
   "mimetype": "text/x-python",
   "name": "python",
   "nbconvert_exporter": "python",
   "pygments_lexer": "ipython3",
   "version": "3.11.7"
  }
 },
 "nbformat": 4,
 "nbformat_minor": 5
}
