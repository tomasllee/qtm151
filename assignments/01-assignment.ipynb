{
 "cells": [
  {
   "cell_type": "markdown",
   "metadata": {},
   "source": [
    "## Assignment 01\n",
    "\n",
    "### Instructions\n",
    "\n",
    "Before starting the assignment, follow the installation instruction in the [Tutorial section of the course website](https://danilofreire.github.io/qtm151/tutorials/tutorials.html) to install the required software.\n",
    "\n",
    "* Please follow all files in order, do every step.\n",
    "* The purpose of this homework is to make sure that you have a working computing environment.\n",
    "  \n",
    "1. Read through the [Introduction to Jupyter Notebooks](https://github.com/danilofreire/qtm151/blob/main/lectures/lecture-02/02-jupyter.ipynb) and [Jupyter Notebook and Markdown Tutorial](https://danilofreire.github.io/qtm151/tutorials/02-jupyter-markdown-tutorial.html) to learn how to use Jupyter Notebooks and Markdown.\n",
    "   \n",
    "Create a new Jupyter notebook with:\n",
    "\n",
    "* A markdown chunk saying: \"This is my first Jupyter notebook\".\n",
    "* A Python chunk PRINTING your name and RUNNING it. For example, this could look like:\n",
    "\n",
    "```python\n",
    "print(\"My name is John Smith\")\n",
    "```\n",
    "\n",
    "* Take a screenshot of the Python notebook showing your own name.\n",
    "* Save this under the name `first_notebook.ipynb`.\n",
    "\n",
    "2. Read the [GitHub tutorial](https://danilofreire.github.io/qtm151/tutorials/03-github-tutorial.html). Navigate to the \"Github\" folder directory on your computer. Now go back to Github Desktop, where you should see the changes that the new file `first_notebook.ipynb` was added to the folder. Follow the instructions in the guide to commit the change. Call this commit \"Assignment 1\".\n",
    "\n",
    "Take a screenshot that includes the \"History\" tab, showing your changes, with your username visible.\n",
    "\n",
    "3. Copy the two screenshots to a single Word document and save it as a PDF, one per page.\n",
    "\n",
    "Upload the PDF with the two screenshots or send them to me via email (danilo.freire@emory.edu), making sure that your personal information is visible and legible.\n"
   ]
  }
 ],
 "metadata": {
  "kernelspec": {
   "display_name": "Python 3 (ipykernel)",
   "language": "python",
   "name": "python3"
  },
  "language_info": {
   "codemirror_mode": {
    "name": "ipython",
    "version": 3
   },
   "file_extension": ".py",
   "mimetype": "text/x-python",
   "name": "python",
   "nbconvert_exporter": "python",
   "pygments_lexer": "ipython3",
   "version": "3.11.7"
  }
 },
 "nbformat": 4,
 "nbformat_minor": 4
}
